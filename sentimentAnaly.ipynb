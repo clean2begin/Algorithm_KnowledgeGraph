{
 "cells": [
  {
   "cell_type": "code",
   "execution_count": 1,
   "metadata": {},
   "outputs": [],
   "source": [
    "from cnsenti import Sentiment\n",
    "from cnsenti import Emotion"
   ]
  },
  {
   "cell_type": "markdown",
   "metadata": {},
   "source": [
    "sentiment_count，可对文本中的正、负面词进行统计。默认使用Hownet词典，可以导入自定义正、负情感txt词典文件<br>\n",
    "sentiment_calcultate，更加精准地计算文本的情感信息，相比sentiment_count只统计文本正负情感词个数，sentiment_calculate还考虑了：<br>\n",
    "情感词前是否有轻度副词的修饰作用<br>\n",
    "情感词前是否有否定词的情感语义反转作用<br>"
   ]
  },
  {
   "cell_type": "code",
   "execution_count": 5,
   "metadata": {},
   "outputs": [
    {
     "name": "stdout",
     "output_type": "stream",
     "text": [
      "{'sentences': 1, 'words': 6, 'pos': 0, 'neg': 0}\n"
     ]
    }
   ],
   "source": [
    "# 正负情感词统计\n",
    "senti = Sentiment()\n",
    "test_text = \"运行一夜了是不是超时了\"\n",
    "# result = senti.sentiment_count(test_text)\n",
    "result = senti.sentiment_calculate(test_text)\n",
    "print(result)"
   ]
  },
  {
   "cell_type": "markdown",
   "metadata": {},
   "source": [
    "自定义词典<br>\n",
    "必须为txt文件<br>\n",
    "原则上建议encoding为utf-8<br>\n",
    "txt文件每行只有一个词<br>"
   ]
  }
 ],
 "metadata": {
  "kernelspec": {
   "display_name": "Python 3.9.13 ('base')",
   "language": "python",
   "name": "python3"
  },
  "language_info": {
   "codemirror_mode": {
    "name": "ipython",
    "version": 3
   },
   "file_extension": ".py",
   "mimetype": "text/x-python",
   "name": "python",
   "nbconvert_exporter": "python",
   "pygments_lexer": "ipython3",
   "version": "3.9.13"
  },
  "orig_nbformat": 4,
  "vscode": {
   "interpreter": {
    "hash": "5179d32cf6ec497baf3f8a3ef987cc77c5d2dc691fdde20a56316522f61a7323"
   }
  }
 },
 "nbformat": 4,
 "nbformat_minor": 2
}
