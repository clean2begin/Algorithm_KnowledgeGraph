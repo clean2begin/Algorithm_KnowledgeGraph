{
 "cells": [
  {
   "cell_type": "code",
   "execution_count": 1,
   "metadata": {},
   "outputs": [],
   "source": [
    "import csv\n",
    "import py2neo\n",
    "from py2neo import Graph,Node,Relationship,NodeMatcher\n",
    "\n",
    "import pandas as pd"
   ]
  },
  {
   "cell_type": "code",
   "execution_count": 58,
   "metadata": {},
   "outputs": [],
   "source": [
    "data = pd.read_csv('./data/data.csv',encoding='gbk')\n",
    "senti = pd.read_csv('./data/sentiAnaly.csv',encoding='gbk')"
   ]
  },
  {
   "cell_type": "code",
   "execution_count": 59,
   "metadata": {},
   "outputs": [
    {
     "data": {
      "text/html": [
       "<div>\n",
       "<style scoped>\n",
       "    .dataframe tbody tr th:only-of-type {\n",
       "        vertical-align: middle;\n",
       "    }\n",
       "\n",
       "    .dataframe tbody tr th {\n",
       "        vertical-align: top;\n",
       "    }\n",
       "\n",
       "    .dataframe thead th {\n",
       "        text-align: right;\n",
       "    }\n",
       "</style>\n",
       "<table border=\"1\" class=\"dataframe\">\n",
       "  <thead>\n",
       "    <tr style=\"text-align: right;\">\n",
       "      <th></th>\n",
       "      <th>Unnamed: 0</th>\n",
       "      <th>title</th>\n",
       "      <th>acRate</th>\n",
       "      <th>difficulty</th>\n",
       "      <th>solutionNum</th>\n",
       "      <th>titleSlug</th>\n",
       "      <th>topicTags</th>\n",
       "      <th>companyTagNum</th>\n",
       "    </tr>\n",
       "  </thead>\n",
       "  <tbody>\n",
       "    <tr>\n",
       "      <th>0</th>\n",
       "      <td>0</td>\n",
       "      <td>1.两数之和</td>\n",
       "      <td>0.528074</td>\n",
       "      <td>EASY</td>\n",
       "      <td>19901</td>\n",
       "      <td>two-sum</td>\n",
       "      <td>[数组, 哈希表]</td>\n",
       "      <td>391</td>\n",
       "    </tr>\n",
       "  </tbody>\n",
       "</table>\n",
       "</div>"
      ],
      "text/plain": [
       "   Unnamed: 0   title    acRate difficulty  solutionNum titleSlug  topicTags  \\\n",
       "0           0  1.两数之和  0.528074       EASY        19901   two-sum  [数组, 哈希表]   \n",
       "\n",
       "   companyTagNum  \n",
       "0            391  "
      ]
     },
     "execution_count": 59,
     "metadata": {},
     "output_type": "execute_result"
    }
   ],
   "source": [
    "data.head(1)"
   ]
  },
  {
   "cell_type": "code",
   "execution_count": 60,
   "metadata": {},
   "outputs": [
    {
     "data": {
      "text/html": [
       "<div>\n",
       "<style scoped>\n",
       "    .dataframe tbody tr th:only-of-type {\n",
       "        vertical-align: middle;\n",
       "    }\n",
       "\n",
       "    .dataframe tbody tr th {\n",
       "        vertical-align: top;\n",
       "    }\n",
       "\n",
       "    .dataframe thead th {\n",
       "        text-align: right;\n",
       "    }\n",
       "</style>\n",
       "<table border=\"1\" class=\"dataframe\">\n",
       "  <thead>\n",
       "    <tr style=\"text-align: right;\">\n",
       "      <th></th>\n",
       "      <th>title</th>\n",
       "      <th>value</th>\n",
       "    </tr>\n",
       "  </thead>\n",
       "  <tbody>\n",
       "    <tr>\n",
       "      <th>0</th>\n",
       "      <td>1.两数之和</td>\n",
       "      <td>0.70258</td>\n",
       "    </tr>\n",
       "  </tbody>\n",
       "</table>\n",
       "</div>"
      ],
      "text/plain": [
       "    title    value\n",
       "0  1.两数之和  0.70258"
      ]
     },
     "execution_count": 60,
     "metadata": {},
     "output_type": "execute_result"
    }
   ],
   "source": [
    "senti.head(1)"
   ]
  },
  {
   "cell_type": "code",
   "execution_count": 56,
   "metadata": {},
   "outputs": [],
   "source": [
    "def str2list(str1):\n",
    "    res = str1.strip('[')\n",
    "    res = res.strip(']')\n",
    "    res = res.split(',')\n",
    "    return res"
   ]
  },
  {
   "cell_type": "code",
   "execution_count": 5,
   "metadata": {},
   "outputs": [],
   "source": [
    "# 连接neo4j\n",
    "g=Graph('http://localhost:7474',user='neo4j',password='123456')"
   ]
  },
  {
   "cell_type": "code",
   "execution_count": null,
   "metadata": {},
   "outputs": [],
   "source": [
    "# 创建结点\n",
    "for idx in range(len(data)):\n",
    "    question = Node(\"Question\",name=data.loc[idx]['title'])\n",
    "    acRate=Node(\"ACRate\",name=data.loc[idx]['acRate'])\n",
    "    difficulty=Node(\"Difficulty\",name=data.loc[idx]['difficulty'])\n",
    "\n",
    "    relation1=Relationship(question,\"通过率\",acRate)\n",
    "    relation2=Relationship(question,\"难度\",difficulty)\n",
    "\n",
    "    g.merge(question,\"Question\",\"name\")\n",
    "    g.merge(acRate,\"ACRate\",\"name\")\n",
    "    g.merge(difficulty,\"Difficulty\",\"name\")\n",
    "    g.merge(relation1,\"通过率\",\"name\")\n",
    "    g.merge(relation2,\"难度\",\"name\")\n",
    "\n",
    "    tags = str2list(name=data.loc[idx]['topicTags'])\n",
    "    for T in tags:\n",
    "        tag = Node(\"Tags\",name=T)\n",
    "        relation=Relationship(question,\"标签\",tag)\n",
    "\n",
    "        g.merge(tag,\"Tags\",\"name\")\n",
    "        g.merge(relation,\"标签\",\"name\")\n",
    "\n",
    "for idx in range(len(senti)):\n",
    "    question = Node(\"Question\",name=senti.loc[idx]['title'])\n",
    "    value = Node(\"Value\",name=senti.loc[idx]['value'])\n",
    "    relation = Relationship(question,\"推荐度\",value)\n",
    "\n",
    "    g.merge(question,\"Question\",\"name\")\n",
    "    g.merge(value,\"Value\",\"name\")\n",
    "    g.merge(relation,\"推荐度\",\"name\")"
   ]
  },
  {
   "cell_type": "code",
   "execution_count": 13,
   "metadata": {},
   "outputs": [],
   "source": [
    "# 清空数据库\n",
    "g.delete_all()"
   ]
  },
  {
   "cell_type": "code",
   "execution_count": 4,
   "metadata": {},
   "outputs": [],
   "source": [
    "# relation数据的处理\n",
    "# def str2list(str1):\n",
    "#     res = str1.strip('|')\n",
    "#     res = res.split('|')\n",
    "#     res_ls = []\n",
    "#     for item in res:\n",
    "#         ls = item.split(',')\n",
    "#         res_ls.append(ls)\n",
    "#     return res_ls"
   ]
  },
  {
   "cell_type": "code",
   "execution_count": 5,
   "metadata": {},
   "outputs": [
    {
     "name": "stdout",
     "output_type": "stream",
     "text": [
      "['数组', '遍历']\n"
     ]
    }
   ],
   "source": [
    "# relation数据的处理\n",
    "#  re=relation.loc[0]['operations']\n",
    "# li = str2list(re)\n",
    "# print(li[0])"
   ]
  },
  {
   "cell_type": "code",
   "execution_count": 9,
   "metadata": {},
   "outputs": [],
   "source": [
    "for item in li:\n",
    "    entry=Node('Knowledge',name=item[0])\n",
    "    operation=Node('operation',name=item[1])\n",
    "    relation=Relationship(entry,'操作',operation)\n",
    "    g.merge(entry,'Knowledge','name')\n",
    "    g.merge(operation,'operation','name')\n",
    "    g.merge(relation,\"操作\",\"name\")"
   ]
  },
  {
   "cell_type": "code",
   "execution_count": null,
   "metadata": {},
   "outputs": [],
   "source": [
    "# 创建结点\n",
    "with open('./data/list.csv','r') as fp:\n",
    "    reader=csv.reader(fp)\n",
    "\n",
    "    for item in reader:\n",
    "        if reader.line_num==1:\n",
    "            continue\n",
    "\n",
    "        print(\"当前行数：\",reader.line_num,\"当前内容：\",item)\n",
    "        entry=Node(\"Question\",name=item[0])\n",
    "        passRate=Node(\"PassRate\",name=item[1])\n",
    "        difficulty=Node(\"Difficulty\",name=item[2])\n",
    "        relation1=Relationship(entry,\"通过率\",passRate)\n",
    "        relation2=Relationship(entry,\"难度\",difficulty)\n",
    "        g.merge(entry,\"Question\",\"name\")\n",
    "        g.merge(passRate,\"PassRate\",\"name\")\n",
    "        g.merge(difficulty,\"Difficulty\",\"name\")\n",
    "        g.merge(relation1,\"通过率\",\"name\")\n",
    "        g.merge(relation2,\"难度\",\"name\")\n",
    "        for i in range(3,n):\n",
    "            if item[i] != '':\n",
    "                knowledge=Node(\"Point\",name=item[i]) \n",
    "                relation=Relationship(entry,\"知识点\",knowledge)\n",
    "\n",
    "                g.merge(knowledge,\"Point\",\"name\")\n",
    "                g.merge(relation,\"知识点\",\"name\")\n",
    "\n",
    "#以下为neo4j代码，如需代码运行，请放入g.run(...)内运行，将...替换为下列代码\n",
    "# MATCH (p: Person {name:\"贾宝玉\"})-[k:丫鬟]-(r)\n",
    "# return p,k,r\n",
    "# MATCH (p1:Person {name:\"贾宝玉\"}),(p2:Person{name:\"香菱\"}),p=shortestpath((p1)-[*..10]-(p2))\n",
    "# RETURN p"
   ]
  }
 ],
 "metadata": {
  "kernelspec": {
   "display_name": "Python 3.9.13 ('base')",
   "language": "python",
   "name": "python3"
  },
  "language_info": {
   "codemirror_mode": {
    "name": "ipython",
    "version": 3
   },
   "file_extension": ".py",
   "mimetype": "text/x-python",
   "name": "python",
   "nbconvert_exporter": "python",
   "pygments_lexer": "ipython3",
   "version": "3.9.13"
  },
  "orig_nbformat": 4,
  "vscode": {
   "interpreter": {
    "hash": "5179d32cf6ec497baf3f8a3ef987cc77c5d2dc691fdde20a56316522f61a7323"
   }
  }
 },
 "nbformat": 4,
 "nbformat_minor": 2
}
