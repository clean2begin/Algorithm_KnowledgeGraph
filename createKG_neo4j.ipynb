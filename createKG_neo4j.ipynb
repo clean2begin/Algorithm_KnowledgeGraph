{
 "cells": [
  {
   "cell_type": "code",
   "execution_count": 2,
   "metadata": {},
   "outputs": [],
   "source": [
    "from py2neo import Graph, Node, Relationship, cypher,NodeMatcher\n",
    "from pandas import DataFrame\n",
    "import pandas as pd"
   ]
  },
  {
   "cell_type": "code",
   "execution_count": 4,
   "metadata": {},
   "outputs": [],
   "source": [
    "relation = pd.read_csv('./data/operation.csv',encoding='gbk')"
   ]
  },
  {
   "cell_type": "code",
   "execution_count": 5,
   "metadata": {},
   "outputs": [
    {
     "data": {
      "text/html": [
       "<div>\n",
       "<style scoped>\n",
       "    .dataframe tbody tr th:only-of-type {\n",
       "        vertical-align: middle;\n",
       "    }\n",
       "\n",
       "    .dataframe tbody tr th {\n",
       "        vertical-align: top;\n",
       "    }\n",
       "\n",
       "    .dataframe thead th {\n",
       "        text-align: right;\n",
       "    }\n",
       "</style>\n",
       "<table border=\"1\" class=\"dataframe\">\n",
       "  <thead>\n",
       "    <tr style=\"text-align: right;\">\n",
       "      <th></th>\n",
       "      <th>name</th>\n",
       "      <th>operations</th>\n",
       "    </tr>\n",
       "  </thead>\n",
       "  <tbody>\n",
       "    <tr>\n",
       "      <th>0</th>\n",
       "      <td>1.两数之和</td>\n",
       "      <td>[['数组', '寻找'], ['数组', '匹配'], ['查找', '说明'], ['查...</td>\n",
       "    </tr>\n",
       "  </tbody>\n",
       "</table>\n",
       "</div>"
      ],
      "text/plain": [
       "     name                                         operations\n",
       "0  1.两数之和  [['数组', '寻找'], ['数组', '匹配'], ['查找', '说明'], ['查..."
      ]
     },
     "execution_count": 5,
     "metadata": {},
     "output_type": "execute_result"
    }
   ],
   "source": [
    "relation.head(1)"
   ]
  },
  {
   "cell_type": "code",
   "execution_count": 12,
   "metadata": {},
   "outputs": [],
   "source": [
    "def str2list(str1):\n",
    "    \n",
    "    #将字符串转换为list，同时去掉收尾多余的字符\n",
    "    newlist =list(str1)\n",
    "    newlist =newlist[2:]\n",
    "    newlist = newlist[:-2]\n",
    "    print(newlist)\n",
    "    \n",
    "    #遍历去掉列表中的多余的字符\n",
    "    value_list =[']',',','[']\n",
    "    for value in value_list:\n",
    "        j = 0\n",
    "        for i in range(len(newlist)):\n",
    "            if newlist[j] == value:\n",
    "                newlist.pop(j)\n",
    "            else:\n",
    "                j += 1\n",
    "    print(newlist)\n",
    "    \n",
    "    #将列表中的字符内容转换为float类型\n",
    "    for i, value in enumerate(newlist):\n",
    "        newlist[i] = float(value)\n",
    "    print(newlist)\n",
    "    \n",
    "    #将一维数组换行为二维数组\n",
    "    result = []\n",
    "    hang = int(len(newlist)/2)\n",
    "    for y in range(0,hang):  # 控制行\n",
    "        for x in range(0, 2): # 控制列\n",
    "            if x == 0:\n",
    "                result.append([])\n",
    "            result[y].append(newlist[x + y * 2])  \n",
    "    print(result)  "
   ]
  },
  {
   "cell_type": "code",
   "execution_count": 16,
   "metadata": {},
   "outputs": [
    {
     "name": "stdout",
     "output_type": "stream",
     "text": [
      "<class 'str'>\n"
     ]
    }
   ],
   "source": [
    "re=relation.loc[0]['operations']\n",
    "str2list(re)"
   ]
  }
 ],
 "metadata": {
  "kernelspec": {
   "display_name": "Python 3.9.13 ('base')",
   "language": "python",
   "name": "python3"
  },
  "language_info": {
   "codemirror_mode": {
    "name": "ipython",
    "version": 3
   },
   "file_extension": ".py",
   "mimetype": "text/x-python",
   "name": "python",
   "nbconvert_exporter": "python",
   "pygments_lexer": "ipython3",
   "version": "3.9.13"
  },
  "orig_nbformat": 4,
  "vscode": {
   "interpreter": {
    "hash": "5179d32cf6ec497baf3f8a3ef987cc77c5d2dc691fdde20a56316522f61a7323"
   }
  }
 },
 "nbformat": 4,
 "nbformat_minor": 2
}
