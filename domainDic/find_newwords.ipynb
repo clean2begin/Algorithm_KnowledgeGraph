{
 "cells": [
  {
   "cell_type": "code",
   "execution_count": 1,
   "metadata": {},
   "outputs": [],
   "source": [
    "from wordexpansion import ChineseSoPmi"
   ]
  },
  {
   "cell_type": "code",
   "execution_count": 14,
   "metadata": {},
   "outputs": [],
   "source": [
    "pos_path = \"pos.txt\"\n",
    "neg_path = \"neg.txt\""
   ]
  },
  {
   "cell_type": "code",
   "execution_count": 13,
   "metadata": {},
   "outputs": [
    {
     "name": "stdout",
     "output_type": "stream",
     "text": [
      "step 1/4:...seg corpus ...\n",
      "step 1/4 finished:...cost 0.5846631526947021...\n",
      "step 2/4:...collect cowords ...\n",
      "step 2/4 finished:...cost 0.011934995651245117...\n",
      "step 3/4:...compute sopmi ...\n",
      "step 1/4 finished:...cost 0.0050199031829833984...\n",
      "step 4/4:...save candiwords ...\n",
      "finished! cost 0.6205651760101318\n"
     ]
    }
   ],
   "source": [
    "sopmier = ChineseSoPmi(inputtext_file='test_corpus.txt',\n",
    "                        seedword_txtfile='test_seed_words.txt',\n",
    "                        pos_candi_txt_file='pos_candi.txt',\n",
    "                        neg_candi_txtfile='neg_candi.txt')\n",
    "\n",
    "sopmier.sopmi()"
   ]
  },
  {
   "cell_type": "code",
   "execution_count": 20,
   "metadata": {},
   "outputs": [],
   "source": [
    "def dealTxt(origin_path,new_path):\n",
    "    # 读\n",
    "    with open(origin_path,'r',encoding='utf-8') as fp:\n",
    "        contents=fp.readlines()\n",
    "        fp.close() \n",
    "    # 写\n",
    "    with open(new_path,'w',encoding='utf-8') as fp:\n",
    "        for content in contents:\n",
    "            text = content.split(',')[0]\n",
    "            fp.write(text+'\\n')\n",
    "        print('write successfully!')\n",
    "        fp.close()"
   ]
  },
  {
   "cell_type": "code",
   "execution_count": 23,
   "metadata": {},
   "outputs": [
    {
     "name": "stdout",
     "output_type": "stream",
     "text": [
      "write successfully!\n",
      "write successfully!\n"
     ]
    }
   ],
   "source": [
    "# 正向\n",
    "dealTxt('pos_candi.txt','pos.txt')\n",
    "# 负向\n",
    "dealTxt('neg_candi.txt','neg.txt')"
   ]
  }
 ],
 "metadata": {
  "kernelspec": {
   "display_name": "Python 3.9.13 ('base')",
   "language": "python",
   "name": "python3"
  },
  "language_info": {
   "codemirror_mode": {
    "name": "ipython",
    "version": 3
   },
   "file_extension": ".py",
   "mimetype": "text/x-python",
   "name": "python",
   "nbconvert_exporter": "python",
   "pygments_lexer": "ipython3",
   "version": "3.9.13"
  },
  "orig_nbformat": 4,
  "vscode": {
   "interpreter": {
    "hash": "5179d32cf6ec497baf3f8a3ef987cc77c5d2dc691fdde20a56316522f61a7323"
   }
  }
 },
 "nbformat": 4,
 "nbformat_minor": 2
}
